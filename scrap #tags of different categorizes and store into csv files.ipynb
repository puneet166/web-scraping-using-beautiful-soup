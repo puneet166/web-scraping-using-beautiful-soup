{
 "cells": [
  {
   "cell_type": "code",
   "execution_count": 8,
   "metadata": {},
   "outputs": [
    {
     "name": "stdout",
     "output_type": "stream",
     "text": [
      "40\n"
     ]
    }
   ],
   "source": [
    "import re\n",
    "import requests\n",
    "from bs4 import BeautifulSoup # its liberary that use for scraping\n",
    "\n",
    "  \n",
    "\n"
   ]
  },
  {
   "cell_type": "code",
   "execution_count": null,
   "metadata": {},
   "outputs": [],
   "source": [
    "#list of categoirzes\n",
    "tags_cat=['athletic','workout','holiday','wedding','likes','follow','inspiration','beauty','makeup','fitness','couples','family','health','reading','writing','interiordesign','gardening','automotive','football','game','fashion','photography','adult','wild','animals','pets','business','startup','company','cricket','sport','historical','movie','travel','club','drink','party','dog','food','tech']\n"
   ]
  },
  {
   "cell_type": "code",
   "execution_count": null,
   "metadata": {},
   "outputs": [],
   "source": [
    "#tag-box tag-box-v3 margin-bottom-40\\\n",
    "#its function for find #tags in the web pages and append into list\n",
    "def g(soup):\n",
    "  mydivs = soup.findAll(\"div\", {\"class\": \"tag-box tag-box-v3 margin-bottom-40\"})\n",
    "  for i in mydivs:\n",
    "    sp=i.text\n",
    "    sp=sp.split(' ')\n",
    "    sd.append(sp)\n"
   ]
  },
  {
   "cell_type": "code",
   "execution_count": null,
   "metadata": {},
   "outputs": [],
   "source": [
    "#its whole logic\n",
    "for i in range(0,len(tags_cat)):\n",
    "  sd=[]\n",
    "  url=\"http://best-hashtags.com/hashtag/\"+tags_cat[i]+\"/\"\n",
    "  url2='http://best-hashtags.com/'\n",
    "  obj=requests.get(url)\n",
    "  soup=BeautifulSoup(obj.text,'html.parser')\n",
    "  links = [a.attrs.get('href') for a in soup.select('a[href]') ]       # here we are extracting all links which is availabe on the current working page, using list comprehensions\n",
    "  for k in links:\n",
    "    #print(i)\n",
    "    new_url=url2+k               # here add the new url with the exist url and store in new_url variable.\n",
    "    r=requests.get(new_url)             # its same like above and same like is in if statements.\n",
    "    soup2=BeautifulSoup(r.text,'html.parser')           # same \n",
    "    g(soup2) \n",
    "  tech=[]\n",
    "  tech=pd.DataFrame(tech)\n",
    "\n",
    "  for j in sd:\n",
    "    ll=pd.DataFrame(j)\n",
    "    #print(type(ll))\n",
    "    tech=tech.append(ll)\n",
    "  tech.to_csv(tags_cat[i]+\".csv\", index=False)\n",
    "\n",
    "\n",
    "     \n",
    "#print(soup.prettify())    # html content convert into html parser tree using beautifulsoup..\n"
   ]
  },
  {
   "cell_type": "code",
   "execution_count": null,
   "metadata": {},
   "outputs": [],
   "source": []
  },
  {
   "cell_type": "code",
   "execution_count": null,
   "metadata": {},
   "outputs": [],
   "source": []
  },
  {
   "cell_type": "code",
   "execution_count": null,
   "metadata": {},
   "outputs": [],
   "source": [
    "import pandas as pd\n",
    "#its all categorizes\n",
    "print(len(tags_cat))\n"
   ]
  },
  {
   "cell_type": "code",
   "execution_count": 9,
   "metadata": {},
   "outputs": [],
   "source": [
    "#its for change column name and add one more columns and merge all files into single files and store into single csv file name is #tagsfile.csv\n",
    "tags=[]\n",
    "tags=pd.DataFrame(tags_cat)\n",
    "for i in range(0,len(tags_cat)):\n",
    "    df=pd.read_csv(tags_cat[i]+'.csv')\n",
    "    df = df.rename({'0':'#tags'}, axis=1)  # new method\n",
    "    df['categories'] = tags_cat[i]\n",
    "    tags=tags.append(df)\n",
    "    \n",
    "tags.to_csv(\"#tagsfile.csv\", index=False)\n",
    "\n"
   ]
  },
  {
   "cell_type": "code",
   "execution_count": null,
   "metadata": {},
   "outputs": [],
   "source": []
  }
 ],
 "metadata": {
  "kernelspec": {
   "display_name": "Python 3",
   "language": "python",
   "name": "python3"
  },
  "language_info": {
   "codemirror_mode": {
    "name": "ipython",
    "version": 3
   },
   "file_extension": ".py",
   "mimetype": "text/x-python",
   "name": "python",
   "nbconvert_exporter": "python",
   "pygments_lexer": "ipython3",
   "version": "3.7.3"
  }
 },
 "nbformat": 4,
 "nbformat_minor": 2
}
